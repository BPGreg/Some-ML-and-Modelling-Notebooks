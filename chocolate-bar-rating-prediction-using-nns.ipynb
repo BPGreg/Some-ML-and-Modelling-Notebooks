{
 "cells": [
  {
   "cell_type": "code",
   "execution_count": 1,
   "id": "shaped-letter",
   "metadata": {
    "_cell_guid": "b1076dfc-b9ad-4769-8c92-a6c4dae69d19",
    "_uuid": "8f2839f25d086af736a60e9eeb907d3b93b6e0e5",
    "execution": {
     "iopub.execute_input": "2021-04-28T12:58:22.381574Z",
     "iopub.status.busy": "2021-04-28T12:58:22.378886Z",
     "iopub.status.idle": "2021-04-28T12:58:26.138758Z",
     "shell.execute_reply": "2021-04-28T12:58:26.137393Z"
    },
    "papermill": {
     "duration": 3.78121,
     "end_time": "2021-04-28T12:58:26.138996",
     "exception": false,
     "start_time": "2021-04-28T12:58:22.357786",
     "status": "completed"
    },
    "tags": []
   },
   "outputs": [
    {
     "name": "stderr",
     "output_type": "stream",
     "text": [
      "── \u001b[1mAttaching packages\u001b[22m ─────────────────────────────────────── tidyverse 1.3.0 ──\n",
      "\n",
      "\u001b[32m✔\u001b[39m \u001b[34mggplot2\u001b[39m 3.3.3     \u001b[32m✔\u001b[39m \u001b[34mpurrr  \u001b[39m 0.3.4\n",
      "\u001b[32m✔\u001b[39m \u001b[34mtibble \u001b[39m 3.1.0     \u001b[32m✔\u001b[39m \u001b[34mdplyr  \u001b[39m 1.0.5\n",
      "\u001b[32m✔\u001b[39m \u001b[34mtidyr  \u001b[39m 1.1.3     \u001b[32m✔\u001b[39m \u001b[34mstringr\u001b[39m 1.4.0\n",
      "\u001b[32m✔\u001b[39m \u001b[34mreadr  \u001b[39m 1.4.0     \u001b[32m✔\u001b[39m \u001b[34mforcats\u001b[39m 0.5.0\n",
      "\n",
      "── \u001b[1mConflicts\u001b[22m ────────────────────────────────────────── tidyverse_conflicts() ──\n",
      "\u001b[31m✖\u001b[39m \u001b[34mdplyr\u001b[39m::\u001b[32mfilter()\u001b[39m masks \u001b[34mstats\u001b[39m::filter()\n",
      "\u001b[31m✖\u001b[39m \u001b[34mdplyr\u001b[39m::\u001b[32mlag()\u001b[39m    masks \u001b[34mstats\u001b[39m::lag()\n",
      "\n",
      "\n",
      "Attaching package: ‘neuralnet’\n",
      "\n",
      "\n",
      "The following object is masked from ‘package:dplyr’:\n",
      "\n",
      "    compute\n",
      "\n",
      "\n",
      "\n",
      "Attaching package: ‘mltools’\n",
      "\n",
      "\n",
      "The following object is masked from ‘package:tidyr’:\n",
      "\n",
      "    replace_na\n",
      "\n",
      "\n",
      "\n",
      "Attaching package: ‘data.table’\n",
      "\n",
      "\n",
      "The following objects are masked from ‘package:dplyr’:\n",
      "\n",
      "    between, first, last\n",
      "\n",
      "\n",
      "The following object is masked from ‘package:purrr’:\n",
      "\n",
      "    transpose\n",
      "\n",
      "\n",
      "Loading required package: lattice\n",
      "\n",
      "\n",
      "Attaching package: ‘caret’\n",
      "\n",
      "\n",
      "The following object is masked from ‘package:purrr’:\n",
      "\n",
      "    lift\n",
      "\n",
      "\n",
      "The following object is masked from ‘package:httr’:\n",
      "\n",
      "    progress\n",
      "\n",
      "\n"
     ]
    }
   ],
   "source": [
    "library(tfdatasets)\n",
    "library(keras)\n",
    "library(tidyverse)\n",
    "library(neuralnet)\n",
    "library(mltools)\n",
    "library(data.table)\n",
    "library(caret)\n",
    "library(dplyr)"
   ]
  },
  {
   "cell_type": "code",
   "execution_count": 2,
   "id": "danish-mattress",
   "metadata": {
    "execution": {
     "iopub.execute_input": "2021-04-28T12:58:26.216387Z",
     "iopub.status.busy": "2021-04-28T12:58:26.184028Z",
     "iopub.status.idle": "2021-04-28T12:58:26.383782Z",
     "shell.execute_reply": "2021-04-28T12:58:26.382522Z"
    },
    "papermill": {
     "duration": 0.224075,
     "end_time": "2021-04-28T12:58:26.384009",
     "exception": false,
     "start_time": "2021-04-28T12:58:26.159934",
     "status": "completed"
    },
    "tags": []
   },
   "outputs": [],
   "source": [
    "data_file_path = \"../input/chocolate-bar-ratings/flavors_of_cacao.csv\""
   ]
  },
  {
   "cell_type": "code",
   "execution_count": 3,
   "id": "smoking-polymer",
   "metadata": {
    "execution": {
     "iopub.execute_input": "2021-04-28T12:58:26.428656Z",
     "iopub.status.busy": "2021-04-28T12:58:26.427339Z",
     "iopub.status.idle": "2021-04-28T12:58:26.465457Z",
     "shell.execute_reply": "2021-04-28T12:58:26.464252Z"
    },
    "papermill": {
     "duration": 0.062069,
     "end_time": "2021-04-28T12:58:26.465719",
     "exception": false,
     "start_time": "2021-04-28T12:58:26.403650",
     "status": "completed"
    },
    "tags": []
   },
   "outputs": [],
   "source": [
    "chocodata <- read.csv(data_file_path)"
   ]
  },
  {
   "cell_type": "code",
   "execution_count": 4,
   "id": "involved-supervision",
   "metadata": {
    "execution": {
     "iopub.execute_input": "2021-04-28T12:58:26.509999Z",
     "iopub.status.busy": "2021-04-28T12:58:26.508331Z",
     "iopub.status.idle": "2021-04-28T12:58:26.676966Z",
     "shell.execute_reply": "2021-04-28T12:58:26.675543Z"
    },
    "papermill": {
     "duration": 0.192067,
     "end_time": "2021-04-28T12:58:26.677110",
     "exception": false,
     "start_time": "2021-04-28T12:58:26.485043",
     "status": "completed"
    },
    "tags": []
   },
   "outputs": [
    {
     "name": "stderr",
     "output_type": "stream",
     "text": [
      "\n",
      "\u001b[36m──\u001b[39m \u001b[1m\u001b[1mColumn specification\u001b[1m\u001b[22m \u001b[36m────────────────────────────────────────────────────────\u001b[39m\n",
      "cols(\n",
      "  Cocoa.Percent = \u001b[32mcol_double()\u001b[39m\n",
      ")\n",
      "\n",
      "\n"
     ]
    }
   ],
   "source": [
    "# some of our column names have spaces in them. This line changes the column names to \n",
    "# versions without spaces, which lets us talk about the columns by their names.\n",
    "names(chocodata) <- make.names(names(chocodata), unique=TRUE)\n",
    "# turn the percentages into numbers\n",
    "chocodata$Cocoa.Percent <- sapply(chocodata$Cocoa.Percent, function(x) gsub(\"%\", \"\", x))\n",
    "# convert all the stuff that can be converted (like \"75\" for the percentages) into numeric types (like 75 the integer)\n",
    "chocodata <- type_convert(chocodata)\n",
    "# get rid of that useless, half-empty column\n",
    "chocodata <- subset(chocodata, select = -Bean.Type)"
   ]
  },
  {
   "cell_type": "code",
   "execution_count": 5,
   "id": "determined-dominican",
   "metadata": {
    "execution": {
     "iopub.execute_input": "2021-04-28T12:58:26.722148Z",
     "iopub.status.busy": "2021-04-28T12:58:26.720555Z",
     "iopub.status.idle": "2021-04-28T12:58:26.771803Z",
     "shell.execute_reply": "2021-04-28T12:58:26.770381Z"
    },
    "papermill": {
     "duration": 0.075106,
     "end_time": "2021-04-28T12:58:26.771977",
     "exception": false,
     "start_time": "2021-04-28T12:58:26.696871",
     "status": "completed"
    },
    "tags": []
   },
   "outputs": [],
   "source": [
    "# We want to be able to turn the string elements to numeric encodings, \n",
    "# and for that we must get rid of the spaces and parentheses in the names\n",
    "chocodata$Company...Maker.if.known. <- make.names(chocodata$Company...Maker.if.known.)\n",
    "chocodata$Specific.Bean.Origin.or.Bar.Name <- make.names(chocodata$Specific.Bean.Origin.or.Bar.Name)\n",
    "chocodata$Company.Location <- make.names(chocodata$Company.Location)\n",
    "chocodata$Broad.Bean.Origin <- make.names(chocodata$Broad.Bean.Origin)\n",
    "#head(chocodata, 50) # to see what that did to the dataset"
   ]
  },
  {
   "cell_type": "markdown",
   "id": "infinite-installation",
   "metadata": {
    "papermill": {
     "duration": 0.020346,
     "end_time": "2021-04-28T12:58:26.813950",
     "exception": false,
     "start_time": "2021-04-28T12:58:26.793604",
     "status": "completed"
    },
    "tags": []
   },
   "source": [
    "# Version package neuralnet\n",
    "\n",
    "Ignorez cette partie, le package neuralnet est éclaté c'est dit"
   ]
  },
  {
   "cell_type": "code",
   "execution_count": 6,
   "id": "architectural-franchise",
   "metadata": {
    "execution": {
     "iopub.execute_input": "2021-04-28T12:58:26.859776Z",
     "iopub.status.busy": "2021-04-28T12:58:26.858206Z",
     "iopub.status.idle": "2021-04-28T12:58:26.870156Z",
     "shell.execute_reply": "2021-04-28T12:58:26.868795Z"
    },
    "papermill": {
     "duration": 0.036194,
     "end_time": "2021-04-28T12:58:26.870307",
     "exception": false,
     "start_time": "2021-04-28T12:58:26.834113",
     "status": "completed"
    },
    "tags": []
   },
   "outputs": [],
   "source": [
    "#model <- neuralnet(Rating ~ Review.Date + Cocoa.Percent, train_dataset, hidden=c(3, 3), lifesign=\"full\", rep=10)"
   ]
  },
  {
   "cell_type": "code",
   "execution_count": 7,
   "id": "natural-publication",
   "metadata": {
    "execution": {
     "iopub.execute_input": "2021-04-28T12:58:26.916560Z",
     "iopub.status.busy": "2021-04-28T12:58:26.915022Z",
     "iopub.status.idle": "2021-04-28T12:58:26.926935Z",
     "shell.execute_reply": "2021-04-28T12:58:26.925672Z"
    },
    "papermill": {
     "duration": 0.036291,
     "end_time": "2021-04-28T12:58:26.927135",
     "exception": false,
     "start_time": "2021-04-28T12:58:26.890844",
     "status": "completed"
    },
    "tags": []
   },
   "outputs": [],
   "source": [
    "#plot(model, rep=\"best\")"
   ]
  },
  {
   "cell_type": "markdown",
   "id": "super-repair",
   "metadata": {
    "papermill": {
     "duration": 0.019983,
     "end_time": "2021-04-28T12:58:26.967199",
     "exception": false,
     "start_time": "2021-04-28T12:58:26.947216",
     "status": "completed"
    },
    "tags": []
   },
   "source": [
    "# Version Keras"
   ]
  },
  {
   "cell_type": "code",
   "execution_count": 8,
   "id": "incorrect-subcommittee",
   "metadata": {
    "execution": {
     "iopub.execute_input": "2021-04-28T12:58:27.013120Z",
     "iopub.status.busy": "2021-04-28T12:58:27.011556Z",
     "iopub.status.idle": "2021-04-28T12:58:33.876882Z",
     "shell.execute_reply": "2021-04-28T12:58:33.875391Z"
    },
    "papermill": {
     "duration": 6.889747,
     "end_time": "2021-04-28T12:58:33.877070",
     "exception": false,
     "start_time": "2021-04-28T12:58:26.987323",
     "status": "completed"
    },
    "tags": []
   },
   "outputs": [],
   "source": [
    "# on crée les tokenizers qui vont transformer les noms en entiers\n",
    "tok_Company <- text_tokenizer(lower=FALSE, filter=\"\")\n",
    "tok_BeanOrig <- text_tokenizer(lower=FALSE, filter=\"\")\n",
    "tok_CompanyLoc <- text_tokenizer(lower=FALSE, filter=\"\")\n",
    "tok_BroadBean <- text_tokenizer(lower=FALSE, filter=\"\")"
   ]
  },
  {
   "cell_type": "code",
   "execution_count": 9,
   "id": "graphic-handbook",
   "metadata": {
    "execution": {
     "iopub.execute_input": "2021-04-28T12:58:33.925217Z",
     "iopub.status.busy": "2021-04-28T12:58:33.922504Z",
     "iopub.status.idle": "2021-04-28T12:58:33.990438Z",
     "shell.execute_reply": "2021-04-28T12:58:33.988791Z"
    },
    "papermill": {
     "duration": 0.092871,
     "end_time": "2021-04-28T12:58:33.990613",
     "exception": false,
     "start_time": "2021-04-28T12:58:33.897742",
     "status": "completed"
    },
    "tags": []
   },
   "outputs": [],
   "source": [
    "# on fait apprendre aux tokenizers le vocabulaire nécessaire pour chaque colonne\n",
    "fit_text_tokenizer(tok_Company, chocodata$Company...Maker.if.known.)\n",
    "fit_text_tokenizer(tok_BeanOrig, chocodata$Specific.Bean.Origin.or.Bar.Name)\n",
    "fit_text_tokenizer(tok_CompanyLoc, chocodata$Company.Location)\n",
    "fit_text_tokenizer(tok_BroadBean, chocodata$Broad.Bean.Origin)"
   ]
  },
  {
   "cell_type": "code",
   "execution_count": 10,
   "id": "grand-realtor",
   "metadata": {
    "execution": {
     "iopub.execute_input": "2021-04-28T12:58:34.038940Z",
     "iopub.status.busy": "2021-04-28T12:58:34.036443Z",
     "iopub.status.idle": "2021-04-28T12:58:34.122184Z",
     "shell.execute_reply": "2021-04-28T12:58:34.120291Z"
    },
    "papermill": {
     "duration": 0.111248,
     "end_time": "2021-04-28T12:58:34.122341",
     "exception": false,
     "start_time": "2021-04-28T12:58:34.011093",
     "status": "completed"
    },
    "tags": []
   },
   "outputs": [],
   "source": [
    "# transforme les strings en listes d'entiers, mais chaque liste est de taille 1\n",
    "# parce qu'on a pris le soin de transformer \"fuck bdr\" en \"fuck.bdr\" ce qui fait 1 mot\n",
    "chocodata$Company...Maker.if.known. <- texts_to_sequences(tok_Company, chocodata$Company...Maker.if.known.)\n",
    "chocodata$Specific.Bean.Origin.or.Bar.Name <- texts_to_sequences(tok_BeanOrig, chocodata$Specific.Bean.Origin.or.Bar.Name)\n",
    "chocodata$Company.Location <- texts_to_sequences(tok_CompanyLoc, chocodata$Company.Location)\n",
    "chocodata$Broad.Bean.Origin <- texts_to_sequences(tok_BroadBean, chocodata$Broad.Bean.Origin)"
   ]
  },
  {
   "cell_type": "code",
   "execution_count": 11,
   "id": "specified-victory",
   "metadata": {
    "execution": {
     "iopub.execute_input": "2021-04-28T12:58:34.170852Z",
     "iopub.status.busy": "2021-04-28T12:58:34.168738Z",
     "iopub.status.idle": "2021-04-28T12:58:34.214300Z",
     "shell.execute_reply": "2021-04-28T12:58:34.212398Z"
    },
    "papermill": {
     "duration": 0.071384,
     "end_time": "2021-04-28T12:58:34.214453",
     "exception": false,
     "start_time": "2021-04-28T12:58:34.143069",
     "status": "completed"
    },
    "tags": []
   },
   "outputs": [
    {
     "data": {
      "text/html": [
       "<table class=\"dataframe\">\n",
       "<caption>A data.frame: 6 × 8</caption>\n",
       "<thead>\n",
       "\t<tr><th></th><th scope=col>Company...Maker.if.known.</th><th scope=col>Specific.Bean.Origin.or.Bar.Name</th><th scope=col>REF</th><th scope=col>Review.Date</th><th scope=col>Cocoa.Percent</th><th scope=col>Company.Location</th><th scope=col>Rating</th><th scope=col>Broad.Bean.Origin</th></tr>\n",
       "\t<tr><th></th><th scope=col>&lt;int&gt;</th><th scope=col>&lt;int&gt;</th><th scope=col>&lt;int&gt;</th><th scope=col>&lt;int&gt;</th><th scope=col>&lt;dbl&gt;</th><th scope=col>&lt;int&gt;</th><th scope=col>&lt;dbl&gt;</th><th scope=col>&lt;int&gt;</th></tr>\n",
       "</thead>\n",
       "<tbody>\n",
       "\t<tr><th scope=row>1</th><td>5</td><td>183</td><td>1876</td><td>2016</td><td>63</td><td>2</td><td>3.75</td><td>27</td></tr>\n",
       "\t<tr><th scope=row>2</th><td>5</td><td>184</td><td>1676</td><td>2015</td><td>70</td><td>2</td><td>2.75</td><td>44</td></tr>\n",
       "\t<tr><th scope=row>3</th><td>5</td><td>185</td><td>1676</td><td>2015</td><td>70</td><td>2</td><td>3.00</td><td>44</td></tr>\n",
       "\t<tr><th scope=row>4</th><td>5</td><td>186</td><td>1680</td><td>2015</td><td>70</td><td>2</td><td>3.50</td><td>44</td></tr>\n",
       "\t<tr><th scope=row>5</th><td>5</td><td>187</td><td>1704</td><td>2015</td><td>70</td><td>2</td><td>3.50</td><td> 3</td></tr>\n",
       "\t<tr><th scope=row>6</th><td>5</td><td>188</td><td>1315</td><td>2014</td><td>70</td><td>2</td><td>2.75</td><td> 1</td></tr>\n",
       "</tbody>\n",
       "</table>\n"
      ],
      "text/latex": [
       "A data.frame: 6 × 8\n",
       "\\begin{tabular}{r|llllllll}\n",
       "  & Company...Maker.if.known. & Specific.Bean.Origin.or.Bar.Name & REF & Review.Date & Cocoa.Percent & Company.Location & Rating & Broad.Bean.Origin\\\\\n",
       "  & <int> & <int> & <int> & <int> & <dbl> & <int> & <dbl> & <int>\\\\\n",
       "\\hline\n",
       "\t1 & 5 & 183 & 1876 & 2016 & 63 & 2 & 3.75 & 27\\\\\n",
       "\t2 & 5 & 184 & 1676 & 2015 & 70 & 2 & 2.75 & 44\\\\\n",
       "\t3 & 5 & 185 & 1676 & 2015 & 70 & 2 & 3.00 & 44\\\\\n",
       "\t4 & 5 & 186 & 1680 & 2015 & 70 & 2 & 3.50 & 44\\\\\n",
       "\t5 & 5 & 187 & 1704 & 2015 & 70 & 2 & 3.50 &  3\\\\\n",
       "\t6 & 5 & 188 & 1315 & 2014 & 70 & 2 & 2.75 &  1\\\\\n",
       "\\end{tabular}\n"
      ],
      "text/markdown": [
       "\n",
       "A data.frame: 6 × 8\n",
       "\n",
       "| <!--/--> | Company...Maker.if.known. &lt;int&gt; | Specific.Bean.Origin.or.Bar.Name &lt;int&gt; | REF &lt;int&gt; | Review.Date &lt;int&gt; | Cocoa.Percent &lt;dbl&gt; | Company.Location &lt;int&gt; | Rating &lt;dbl&gt; | Broad.Bean.Origin &lt;int&gt; |\n",
       "|---|---|---|---|---|---|---|---|---|\n",
       "| 1 | 5 | 183 | 1876 | 2016 | 63 | 2 | 3.75 | 27 |\n",
       "| 2 | 5 | 184 | 1676 | 2015 | 70 | 2 | 2.75 | 44 |\n",
       "| 3 | 5 | 185 | 1676 | 2015 | 70 | 2 | 3.00 | 44 |\n",
       "| 4 | 5 | 186 | 1680 | 2015 | 70 | 2 | 3.50 | 44 |\n",
       "| 5 | 5 | 187 | 1704 | 2015 | 70 | 2 | 3.50 |  3 |\n",
       "| 6 | 5 | 188 | 1315 | 2014 | 70 | 2 | 2.75 |  1 |\n",
       "\n"
      ],
      "text/plain": [
       "  Company...Maker.if.known. Specific.Bean.Origin.or.Bar.Name REF  Review.Date\n",
       "1 5                         183                              1876 2016       \n",
       "2 5                         184                              1676 2015       \n",
       "3 5                         185                              1676 2015       \n",
       "4 5                         186                              1680 2015       \n",
       "5 5                         187                              1704 2015       \n",
       "6 5                         188                              1315 2014       \n",
       "  Cocoa.Percent Company.Location Rating Broad.Bean.Origin\n",
       "1 63            2                3.75   27               \n",
       "2 70            2                2.75   44               \n",
       "3 70            2                3.00   44               \n",
       "4 70            2                3.50   44               \n",
       "5 70            2                3.50    3               \n",
       "6 70            2                2.75    1               "
      ]
     },
     "metadata": {},
     "output_type": "display_data"
    }
   ],
   "source": [
    "# du coup on transforme les listes de taille 1 en entiers\n",
    "chocodata$Company...Maker.if.known. <- unlist(chocodata$Company...Maker.if.known.)\n",
    "chocodata$Specific.Bean.Origin.or.Bar.Name <- unlist(chocodata$Specific.Bean.Origin.or.Bar.Name)\n",
    "chocodata$Company.Location <- unlist(chocodata$Company.Location)\n",
    "chocodata$Broad.Bean.Origin <- unlist(chocodata$Broad.Bean.Origin)\n",
    "head(chocodata)"
   ]
  },
  {
   "cell_type": "code",
   "execution_count": 12,
   "id": "afraid-sigma",
   "metadata": {
    "execution": {
     "iopub.execute_input": "2021-04-28T12:58:34.264044Z",
     "iopub.status.busy": "2021-04-28T12:58:34.262015Z",
     "iopub.status.idle": "2021-04-28T12:58:34.282256Z",
     "shell.execute_reply": "2021-04-28T12:58:34.280724Z"
    },
    "papermill": {
     "duration": 0.046468,
     "end_time": "2021-04-28T12:58:34.282406",
     "exception": false,
     "start_time": "2021-04-28T12:58:34.235938",
     "status": "completed"
    },
    "tags": []
   },
   "outputs": [],
   "source": [
    "# on mélange les rows\n",
    "set.seed(506)\n",
    "shuffled_rows_indices <- sample(nrow(chocodata))\n",
    "chocodata <- chocodata[shuffled_rows_indices, ]"
   ]
  },
  {
   "cell_type": "code",
   "execution_count": 13,
   "id": "declared-ambassador",
   "metadata": {
    "execution": {
     "iopub.execute_input": "2021-04-28T12:58:34.331925Z",
     "iopub.status.busy": "2021-04-28T12:58:34.330098Z",
     "iopub.status.idle": "2021-04-28T12:58:34.348455Z",
     "shell.execute_reply": "2021-04-28T12:58:34.346815Z"
    },
    "papermill": {
     "duration": 0.044636,
     "end_time": "2021-04-28T12:58:34.348703",
     "exception": false,
     "start_time": "2021-04-28T12:58:34.304067",
     "status": "completed"
    },
    "tags": []
   },
   "outputs": [],
   "source": [
    "# features et target\n",
    "X = chocodata[ , c(\"Company...Maker.if.known.\", \"Specific.Bean.Origin.or.Bar.Name\", \n",
    "                   \"REF\", \"Review.Date\", \"Cocoa.Percent\", \n",
    "                   \"Company.Location\", \"Broad.Bean.Origin\")]\n",
    "Y = chocodata[ , c(\"Rating\")]"
   ]
  },
  {
   "cell_type": "code",
   "execution_count": 14,
   "id": "traditional-madison",
   "metadata": {
    "execution": {
     "iopub.execute_input": "2021-04-28T12:58:34.398343Z",
     "iopub.status.busy": "2021-04-28T12:58:34.396647Z",
     "iopub.status.idle": "2021-04-28T12:58:34.419694Z",
     "shell.execute_reply": "2021-04-28T12:58:34.418344Z"
    },
    "papermill": {
     "duration": 0.049623,
     "end_time": "2021-04-28T12:58:34.419839",
     "exception": false,
     "start_time": "2021-04-28T12:58:34.370216",
     "status": "completed"
    },
    "tags": []
   },
   "outputs": [],
   "source": [
    "# train/test sets\n",
    "splitter <- sample(c(rep(0, 0.7 * nrow(chocodata)), rep(1, 0.3 * nrow(chocodata))))\n",
    "x_train <- X[splitter == 0, ]   \n",
    "x_test <- X[splitter == 1, ]\n",
    "y_train <- Y[splitter ==0]\n",
    "y_test <- Y[splitter ==1]"
   ]
  },
  {
   "cell_type": "code",
   "execution_count": 15,
   "id": "macro-split",
   "metadata": {
    "execution": {
     "iopub.execute_input": "2021-04-28T12:58:34.469253Z",
     "iopub.status.busy": "2021-04-28T12:58:34.467676Z",
     "iopub.status.idle": "2021-04-28T12:58:34.680987Z",
     "shell.execute_reply": "2021-04-28T12:58:34.679264Z"
    },
    "papermill": {
     "duration": 0.239461,
     "end_time": "2021-04-28T12:58:34.681151",
     "exception": false,
     "start_time": "2021-04-28T12:58:34.441690",
     "status": "completed"
    },
    "tags": []
   },
   "outputs": [],
   "source": [
    "# on définit l'architecture du modèle\n",
    "model <- keras_model_sequential()\n",
    "model %>%\n",
    "    layer_batch_normalization(input_shape=c(7)) %>%\n",
    "    layer_dense(units = 20, activation = 'relu') %>%\n",
    "    layer_dense(units = 10, activation = 'relu') %>%\n",
    "    layer_dense(units = 1)"
   ]
  },
  {
   "cell_type": "code",
   "execution_count": 16,
   "id": "polyphonic-guess",
   "metadata": {
    "execution": {
     "iopub.execute_input": "2021-04-28T12:58:34.732759Z",
     "iopub.status.busy": "2021-04-28T12:58:34.730644Z",
     "iopub.status.idle": "2021-04-28T12:58:34.761168Z",
     "shell.execute_reply": "2021-04-28T12:58:34.759544Z"
    },
    "papermill": {
     "duration": 0.057903,
     "end_time": "2021-04-28T12:58:34.761324",
     "exception": false,
     "start_time": "2021-04-28T12:58:34.703421",
     "status": "completed"
    },
    "tags": []
   },
   "outputs": [],
   "source": [
    "# on définit les paramètres d'entrainement du modèle\n",
    "model %>% compile(\n",
    "  optimizer = \"sgd\", \n",
    "  loss = \"mean_squared_error\"\n",
    ")\n",
    "\n",
    "# ça je m'en sers pas parce que ça casse le plot final mais ça peut servir un jour\n",
    "# early_stop = callback_early_stopping(patience=30)"
   ]
  },
  {
   "cell_type": "code",
   "execution_count": 17,
   "id": "corporate-yeast",
   "metadata": {
    "execution": {
     "iopub.execute_input": "2021-04-28T12:58:34.813151Z",
     "iopub.status.busy": "2021-04-28T12:58:34.810925Z",
     "iopub.status.idle": "2021-04-28T12:58:34.853033Z",
     "shell.execute_reply": "2021-04-28T12:58:34.851355Z"
    },
    "papermill": {
     "duration": 0.069511,
     "end_time": "2021-04-28T12:58:34.853193",
     "exception": false,
     "start_time": "2021-04-28T12:58:34.783682",
     "status": "completed"
    },
    "tags": []
   },
   "outputs": [],
   "source": [
    "# convertit les data frames en tensors pour que le modèle puisse les lire\n",
    "# TODO: trouver une meilleure façon de faire, je ne suis pas sûr que ça marche bien ça\n",
    "x_traine <- k_constant(x_train)\n",
    "y_traine <- k_constant(y_train)\n",
    "x_teste <- k_constant(x_test)\n",
    "y_teste <- k_constant(y_test)"
   ]
  },
  {
   "cell_type": "code",
   "execution_count": 18,
   "id": "applicable-jackson",
   "metadata": {
    "execution": {
     "iopub.execute_input": "2021-04-28T12:58:34.903771Z",
     "iopub.status.busy": "2021-04-28T12:58:34.902049Z",
     "iopub.status.idle": "2021-04-28T12:58:38.386772Z",
     "shell.execute_reply": "2021-04-28T12:58:38.385129Z"
    },
    "papermill": {
     "duration": 3.51178,
     "end_time": "2021-04-28T12:58:38.387170",
     "exception": false,
     "start_time": "2021-04-28T12:58:34.875390",
     "status": "completed"
    },
    "tags": []
   },
   "outputs": [],
   "source": [
    "# training\n",
    "history <- fit(model, x_traine, y_traine, epochs = 30, verbose = 2, validation_data = c(x_teste, y_teste))"
   ]
  },
  {
   "cell_type": "code",
   "execution_count": 19,
   "id": "monetary-fiction",
   "metadata": {
    "execution": {
     "iopub.execute_input": "2021-04-28T12:58:38.445004Z",
     "iopub.status.busy": "2021-04-28T12:58:38.443617Z",
     "iopub.status.idle": "2021-04-28T12:58:39.304852Z",
     "shell.execute_reply": "2021-04-28T12:58:39.303557Z"
    },
    "papermill": {
     "duration": 0.89484,
     "end_time": "2021-04-28T12:58:39.304993",
     "exception": false,
     "start_time": "2021-04-28T12:58:38.410153",
     "status": "completed"
    },
    "tags": []
   },
   "outputs": [
    {
     "name": "stderr",
     "output_type": "stream",
     "text": [
      "`geom_smooth()` using formula 'y ~ x'\n",
      "\n"
     ]
    },
    {
     "data": {
      "image/png": "[encoded data removed]"
     },
     "metadata": {
      "image/png": {
       "height": 420,
       "width": 420
      }
     },
     "output_type": "display_data"
    }
   ],
   "source": [
    "# bon alors y'a un truc chelou, la loss est à 0 mais l'accuracy est éclatée...\n",
    "# y'a un problème à régler quelque part\n",
    "plot(history)"
   ]
  },
  {
   "cell_type": "code",
   "execution_count": 20,
   "id": "immune-doubt",
   "metadata": {
    "execution": {
     "iopub.execute_input": "2021-04-28T12:58:39.359482Z",
     "iopub.status.busy": "2021-04-28T12:58:39.357998Z",
     "iopub.status.idle": "2021-04-28T12:58:39.417892Z",
     "shell.execute_reply": "2021-04-28T12:58:39.416740Z"
    },
    "papermill": {
     "duration": 0.08848,
     "end_time": "2021-04-28T12:58:39.418046",
     "exception": false,
     "start_time": "2021-04-28T12:58:39.329566",
     "status": "completed"
    },
    "tags": []
   },
   "outputs": [
    {
     "ename": "ERROR",
     "evalue": "Error: Problem with `mutate()` input `performance`.\n\u001b[31m✖\u001b[39m Input `performance` can't be recycled to size 1795.\n\u001b[34mℹ\u001b[39m Input `performance` is `getPerformance(chocodata$G1, chocodata$G2, chocodata$G3)`.\n\u001b[34mℹ\u001b[39m Input `performance` must be size 1795 or 1, not 0.\n",
     "output_type": "error",
     "traceback": [
      "Error: Problem with `mutate()` input `performance`.\n\u001b[31m✖\u001b[39m Input `performance` can't be recycled to size 1795.\n\u001b[34mℹ\u001b[39m Input `performance` is `getPerformance(chocodata$G1, chocodata$G2, chocodata$G3)`.\n\u001b[34mℹ\u001b[39m Input `performance` must be size 1795 or 1, not 0.\nTraceback:\n",
      "1. mutate(chocodata, performance = getPerformance(chocodata$G1, \n .     chocodata$G2, chocodata$G3))",
      "2. mutate.data.frame(chocodata, performance = getPerformance(chocodata$G1, \n .     chocodata$G2, chocodata$G3))",
      "3. mutate_cols(.data, ...)",
      "4. withCallingHandlers({\n .     for (i in seq_along(dots)) {\n .         mask$across_cache_reset()\n .         quosures <- expand_quosure(dots[[i]])\n .         quosures_results <- vector(mode = \"list\", length = length(quosures))\n .         for (k in seq_along(quosures)) {\n .             quo <- quosures[[k]]\n .             quo_data <- attr(quo, \"dplyr:::data\")\n .             context_poke(\"column\", quo_data$column)\n .             chunks <- NULL\n .             result <- NULL\n .             if (quo_is_symbol(quo)) {\n .                 name <- as_string(quo_get_expr(quo))\n .                 if (name %in% names(new_columns)) {\n .                   result <- new_columns[[name]]\n .                   chunks <- mask$resolve(name)\n .                 }\n .                 else if (name %in% names(.data)) {\n .                   result <- .data[[name]]\n .                   chunks <- mask$resolve(name)\n .                 }\n .                 if (inherits(.data, \"rowwise_df\") && vec_is_list(result)) {\n .                   sizes <- list_sizes(result)\n .                   wrong <- which(sizes != 1)\n .                   if (length(wrong)) {\n .                     group <- wrong[1L]\n .                     mask$set_current_group(group)\n .                     abort(x_size = sizes[group], class = \"dplyr:::mutate_incompatible_size\")\n .                   }\n .                 }\n .             }\n .             if (is.null(chunks)) {\n .                 chunks <- mask$eval_all_mutate(quo)\n .             }\n .             if (is.null(chunks)) {\n .                 next\n .             }\n .             if (is.null(result)) {\n .                 if (length(rows) == 1) {\n .                   result <- chunks[[1]]\n .                 }\n .                 else {\n .                   result <- withCallingHandlers(vec_unchop(chunks <- vec_cast_common(!!!chunks), \n .                     rows), vctrs_error_incompatible_type = function(cnd) {\n .                     abort(class = \"dplyr:::error_mutate_incompatible_combine\", \n .                       parent = cnd)\n .                   })\n .                 }\n .             }\n .             quosures_results[[k]] <- list(result = result, chunks = chunks)\n .         }\n .         for (k in seq_along(quosures)) {\n .             quo <- quosures[[k]]\n .             quo_data <- attr(quo, \"dplyr:::data\")\n .             quo_result <- quosures_results[[k]]\n .             if (is.null(quo_result)) {\n .                 if (quo_data$is_named) {\n .                   name <- quo_data$name_given\n .                   new_columns[[name]] <- zap()\n .                   mask$remove(name)\n .                 }\n .                 next\n .             }\n .             result <- quo_result$result\n .             chunks <- quo_result$chunks\n .             if (!quo_data$is_named && is.data.frame(result)) {\n .                 new_columns[names(result)] <- result\n .                 mask$add_many(result, chunks)\n .             }\n .             else {\n .                 name <- quo_data$name_auto\n .                 new_columns[[name]] <- result\n .                 mask$add_one(name, chunks)\n .             }\n .         }\n .     }\n . }, error = function(e) {\n .     local_call_step(dots = dots, .index = i, .fn = \"mutate\", \n .         .dot_data = inherits(e, \"rlang_error_data_pronoun_not_found\"))\n .     call_step_envir <- peek_call_step()\n .     error_name <- call_step_envir$error_name\n .     error_expression <- call_step_envir$error_expression\n .     show_group_details <- TRUE\n .     if (inherits(e, \"dplyr:::mutate_incompatible_size\")) {\n .         size <- vec_size(rows[[mask$get_current_group()]])\n .         x_size <- e$x_size\n .         bullets <- c(x = glue(\"Input `{error_name}` can't be recycled to size {size}.\"), \n .             i = cnd_bullet_input_info(), i = glue(\"Input `{error_name}` must be size {or_1(size)}, not {x_size}.\"), \n .             i = cnd_bullet_rowwise_unlist())\n .     }\n .     else if (inherits(e, \"dplyr:::mutate_mixed_null\")) {\n .         show_group_details <- FALSE\n .         bullets <- c(x = glue(\"`{error_name}` must return compatible vectors across groups.\"), \n .             i = cnd_bullet_input_info(), i = \"Cannot combine NULL and non NULL results.\", \n .             i = cnd_bullet_rowwise_unlist())\n .     }\n .     else if (inherits(e, \"dplyr:::mutate_not_vector\")) {\n .         bullets <- c(x = glue(\"Input `{error_name}` must be a vector, not {friendly_type_of(e$result)}.\"), \n .             i = cnd_bullet_input_info(), i = cnd_bullet_rowwise_unlist())\n .     }\n .     else if (inherits(e, \"dplyr:::error_mutate_incompatible_combine\")) {\n .         show_group_details <- FALSE\n .         bullets <- c(x = glue(\"Input `{error_name}` must return compatible vectors across groups\"), \n .             i = cnd_bullet_input_info(), i = cnd_bullet_combine_details(e$parent$x, \n .                 e$parent$x_arg), i = cnd_bullet_combine_details(e$parent$y, \n .                 e$parent$y_arg))\n .     }\n .     else {\n .         bullets <- c(x = conditionMessage(e), i = cnd_bullet_input_info())\n .     }\n .     bullets <- c(cnd_bullet_header(), bullets, i = if (show_group_details) cnd_bullet_cur_group_label())\n .     abort(bullets, class = c(\"dplyr:::mutate_error\", \"dplyr_error\"), \n .         error_name = error_name, error_expression = error_expression, \n .         parent = e, bullets = bullets)\n . }, warning = function(w) {\n .     if (check_muffled_warning(w)) {\n .         maybe_restart(\"muffleWarning\")\n .     }\n .     local_call_step(dots = dots, .index = i, .fn = \"mutate\")\n .     warn(c(cnd_bullet_header(), i = conditionMessage(w), i = cnd_bullet_input_info(), \n .         i = cnd_bullet_cur_group_label(what = \"warning\")))\n .     maybe_restart(\"muffleWarning\")\n . })",
      "5. mask$eval_all_mutate(quo)",
      "6. abort_glue(character(0), list(x_size = 0L), \"dplyr:::mutate_incompatible_size\")",
      "7. exec(abort, class = class, !!!data)",
      "8. (function (message = NULL, class = NULL, ..., trace = NULL, parent = NULL, \n .     .subclass = deprecated()) \n . {\n .     validate_signal_args(.subclass)\n .     if (is_null(trace) && is_null(peek_option(\"rlang:::disable_trace_capture\"))) {\n .         with_options(`rlang:::disable_trace_capture` = TRUE, \n .             {\n .                 trace <- trace_back()\n .                 if (is_null(parent)) {\n .                   context <- trace_length(trace)\n .                 }\n .                 else {\n .                   context <- trace_capture_depth(trace)\n .                 }\n .                 trace <- trace_trim_context(trace, context)\n .             })\n .     }\n .     message <- validate_signal_message(message, class)\n .     message <- collapse_cnd_message(message)\n .     cnd <- error_cnd(class, ..., message = message, parent = parent, \n .         trace = trace)\n .     signal_abort(cnd)\n . })(class = \"dplyr:::mutate_incompatible_size\", x_size = 0L)",
      "9. signal_abort(cnd)",
      "10. signalCondition(cnd)",
      "11. (function (e) \n  . {\n  .     local_call_step(dots = dots, .index = i, .fn = \"mutate\", \n  .         .dot_data = inherits(e, \"rlang_error_data_pronoun_not_found\"))\n  .     call_step_envir <- peek_call_step()\n  .     error_name <- call_step_envir$error_name\n  .     error_expression <- call_step_envir$error_expression\n  .     show_group_details <- TRUE\n  .     if (inherits(e, \"dplyr:::mutate_incompatible_size\")) {\n  .         size <- vec_size(rows[[mask$get_current_group()]])\n  .         x_size <- e$x_size\n  .         bullets <- c(x = glue(\"Input `{error_name}` can't be recycled to size {size}.\"), \n  .             i = cnd_bullet_input_info(), i = glue(\"Input `{error_name}` must be size {or_1(size)}, not {x_size}.\"), \n  .             i = cnd_bullet_rowwise_unlist())\n  .     }\n  .     else if (inherits(e, \"dplyr:::mutate_mixed_null\")) {\n  .         show_group_details <- FALSE\n  .         bullets <- c(x = glue(\"`{error_name}` must return compatible vectors across groups.\"), \n  .             i = cnd_bullet_input_info(), i = \"Cannot combine NULL and non NULL results.\", \n  .             i = cnd_bullet_rowwise_unlist())\n  .     }\n  .     else if (inherits(e, \"dplyr:::mutate_not_vector\")) {\n  .         bullets <- c(x = glue(\"Input `{error_name}` must be a vector, not {friendly_type_of(e$result)}.\"), \n  .             i = cnd_bullet_input_info(), i = cnd_bullet_rowwise_unlist())\n  .     }\n  .     else if (inherits(e, \"dplyr:::error_mutate_incompatible_combine\")) {\n  .         show_group_details <- FALSE\n  .         bullets <- c(x = glue(\"Input `{error_name}` must return compatible vectors across groups\"), \n  .             i = cnd_bullet_input_info(), i = cnd_bullet_combine_details(e$parent$x, \n  .                 e$parent$x_arg), i = cnd_bullet_combine_details(e$parent$y, \n  .                 e$parent$y_arg))\n  .     }\n  .     else {\n  .         bullets <- c(x = conditionMessage(e), i = cnd_bullet_input_info())\n  .     }\n  .     bullets <- c(cnd_bullet_header(), bullets, i = if (show_group_details) cnd_bullet_cur_group_label())\n  .     abort(bullets, class = c(\"dplyr:::mutate_error\", \"dplyr_error\"), \n  .         error_name = error_name, error_expression = error_expression, \n  .         parent = e, bullets = bullets)\n  . })(structure(list(message = \"\", trace = structure(list(calls = list(\n  .     IRkernel::main(), kernel$run(), IRkernel:::handle_shell(), \n  .     executor$execute(msg), base::tryCatch(evaluate(request$content$code, \n  .         envir = .GlobalEnv, output_handler = oh, stop_on_error = 1L), \n  .         interrupt = function(cond) {\n  .             log_debug(\"Interrupt during execution\")\n  .             interrupted <<- TRUE\n  .         }, error = .self$handle_error), base:::tryCatchList(expr, \n  .         classes, parentenv, handlers), base:::tryCatchOne(tryCatchList(expr, \n  .         names[-nh], parentenv, handlers[-nh]), names[nh], parentenv, \n  .         handlers[[nh]]), base:::doTryCatch(return(expr), name, \n  .         parentenv, handler), base:::tryCatchList(expr, names[-nh], \n  .         parentenv, handlers[-nh]), base:::tryCatchOne(expr, names, \n  .         parentenv, handlers[[1L]]), base:::doTryCatch(return(expr), \n  .         name, parentenv, handler), evaluate::evaluate(request$content$code, \n  .         envir = .GlobalEnv, output_handler = oh, stop_on_error = 1L), \n  .     evaluate:::evaluate_call(expr, parsed$src[[i]], envir = envir, \n  .         enclos = enclos, debug = debug, last = i == length(out), \n  .         use_try = stop_on_error != 2L, keep_warning = keep_warning, \n  .         keep_message = keep_message, output_handler = output_handler, \n  .         include_timing = include_timing), evaluate:::timing_fn(handle(ev <- withCallingHandlers(withVisible(eval(expr, \n  .         envir, enclos)), warning = wHandler, error = eHandler, \n  .         message = mHandler))), evaluate:::handle(ev <- withCallingHandlers(withVisible(eval(expr, \n  .         envir, enclos)), warning = wHandler, error = eHandler, \n  .         message = mHandler)), base::try(f, silent = TRUE), base::tryCatch(expr, \n  .         error = function(e) {\n  .             call <- conditionCall(e)\n  .             if (!is.null(call)) {\n  .                 if (identical(call[[1L]], quote(doTryCatch))) \n  .                   call <- sys.call(-4L)\n  .                 dcall <- deparse(call)[1L]\n  .                 prefix <- paste(\"Error in\", dcall, \": \")\n  .                 LONG <- 75L\n  .                 sm <- strsplit(conditionMessage(e), \"\\n\")[[1L]]\n  .                 w <- 14L + nchar(dcall, type = \"w\") + nchar(sm[1L], \n  .                   type = \"w\")\n  .                 if (is.na(w)) \n  .                   w <- 14L + nchar(dcall, type = \"b\") + nchar(sm[1L], \n  .                     type = \"b\")\n  .                 if (w > LONG) \n  .                   prefix <- paste0(prefix, \"\\n  \")\n  .             }\n  .             else prefix <- \"Error : \"\n  .             msg <- paste0(prefix, conditionMessage(e), \"\\n\")\n  .             .Internal(seterrmessage(msg[1L]))\n  .             if (!silent && isTRUE(getOption(\"show.error.messages\"))) {\n  .                 cat(msg, file = outFile)\n  .                 .Internal(printDeferredWarnings())\n  .             }\n  .             invisible(structure(msg, class = \"try-error\", condition = e))\n  .         }), base:::tryCatchList(expr, classes, parentenv, handlers), \n  .     base:::tryCatchOne(expr, names, parentenv, handlers[[1L]]), \n  .     base:::doTryCatch(return(expr), name, parentenv, handler), \n  .     base::withCallingHandlers(withVisible(eval(expr, envir, enclos)), \n  .         warning = wHandler, error = eHandler, message = mHandler), \n  .     base::withVisible(eval(expr, envir, enclos)), base::eval(expr, \n  .         envir, enclos), base::eval(expr, envir, enclos), dplyr::mutate(chocodata, \n  .         performance = getPerformance(chocodata$G1, chocodata$G2, \n  .             chocodata$G3)), dplyr:::mutate.data.frame(chocodata, \n  .         performance = getPerformance(chocodata$G1, chocodata$G2, \n  .             chocodata$G3)), dplyr:::mutate_cols(.data, ...), \n  .     base::withCallingHandlers({\n  .         for (i in seq_along(dots)) {\n  .             mask$across_cache_reset()\n  .             quosures <- expand_quosure(dots[[i]])\n  .             quosures_results <- vector(mode = \"list\", length = length(quosures))\n  .             for (k in seq_along(quosures)) {\n  .                 quo <- quosures[[k]]\n  .                 quo_data <- attr(quo, \"dplyr:::data\")\n  .                 context_poke(\"column\", quo_data$column)\n  .                 chunks <- NULL\n  .                 result <- NULL\n  .                 if (quo_is_symbol(quo)) {\n  .                   name <- as_string(quo_get_expr(quo))\n  .                   if (name %in% names(new_columns)) {\n  .                     result <- new_columns[[name]]\n  .                     chunks <- mask$resolve(name)\n  .                   }\n  .                   else if (name %in% names(.data)) {\n  .                     result <- .data[[name]]\n  .                     chunks <- mask$resolve(name)\n  .                   }\n  .                   if (inherits(.data, \"rowwise_df\") && vec_is_list(result)) {\n  .                     sizes <- list_sizes(result)\n  .                     wrong <- which(sizes != 1)\n  .                     if (length(wrong)) {\n  .                       group <- wrong[1L]\n  .                       mask$set_current_group(group)\n  .                       abort(x_size = sizes[group], class = \"dplyr:::mutate_incompatible_size\")\n  .                     }\n  .                   }\n  .                 }\n  .                 if (is.null(chunks)) {\n  .                   chunks <- mask$eval_all_mutate(quo)\n  .                 }\n  .                 if (is.null(chunks)) {\n  .                   next\n  .                 }\n  .                 if (is.null(result)) {\n  .                   if (length(rows) == 1) {\n  .                     result <- chunks[[1]]\n  .                   }\n  .                   else {\n  .                     result <- withCallingHandlers(vec_unchop(chunks <- vec_cast_common(!!!chunks), \n  .                       rows), vctrs_error_incompatible_type = function(cnd) {\n  .                       abort(class = \"dplyr:::error_mutate_incompatible_combine\", \n  .                         parent = cnd)\n  .                     })\n  .                   }\n  .                 }\n  .                 quosures_results[[k]] <- list(result = result, \n  .                   chunks = chunks)\n  .             }\n  .             for (k in seq_along(quosures)) {\n  .                 quo <- quosures[[k]]\n  .                 quo_data <- attr(quo, \"dplyr:::data\")\n  .                 quo_result <- quosures_results[[k]]\n  .                 if (is.null(quo_result)) {\n  .                   if (quo_data$is_named) {\n  .                     name <- quo_data$name_given\n  .                     new_columns[[name]] <- zap()\n  .                     mask$remove(name)\n  .                   }\n  .                   next\n  .                 }\n  .                 result <- quo_result$result\n  .                 chunks <- quo_result$chunks\n  .                 if (!quo_data$is_named && is.data.frame(result)) {\n  .                   new_columns[names(result)] <- result\n  .                   mask$add_many(result, chunks)\n  .                 }\n  .                 else {\n  .                   name <- quo_data$name_auto\n  .                   new_columns[[name]] <- result\n  .                   mask$add_one(name, chunks)\n  .                 }\n  .             }\n  .         }\n  .     }, error = function(e) {\n  .         local_call_step(dots = dots, .index = i, .fn = \"mutate\", \n  .             .dot_data = inherits(e, \"rlang_error_data_pronoun_not_found\"))\n  .         call_step_envir <- peek_call_step()\n  .         error_name <- call_step_envir$error_name\n  .         error_expression <- call_step_envir$error_expression\n  .         show_group_details <- TRUE\n  .         if (inherits(e, \"dplyr:::mutate_incompatible_size\")) {\n  .             size <- vec_size(rows[[mask$get_current_group()]])\n  .             x_size <- e$x_size\n  .             bullets <- c(x = glue(\"Input `{error_name}` can't be recycled to size {size}.\"), \n  .                 i = cnd_bullet_input_info(), i = glue(\"Input `{error_name}` must be size {or_1(size)}, not {x_size}.\"), \n  .                 i = cnd_bullet_rowwise_unlist())\n  .         }\n  .         else if (inherits(e, \"dplyr:::mutate_mixed_null\")) {\n  .             show_group_details <- FALSE\n  .             bullets <- c(x = glue(\"`{error_name}` must return compatible vectors across groups.\"), \n  .                 i = cnd_bullet_input_info(), i = \"Cannot combine NULL and non NULL results.\", \n  .                 i = cnd_bullet_rowwise_unlist())\n  .         }\n  .         else if (inherits(e, \"dplyr:::mutate_not_vector\")) {\n  .             bullets <- c(x = glue(\"Input `{error_name}` must be a vector, not {friendly_type_of(e$result)}.\"), \n  .                 i = cnd_bullet_input_info(), i = cnd_bullet_rowwise_unlist())\n  .         }\n  .         else if (inherits(e, \"dplyr:::error_mutate_incompatible_combine\")) {\n  .             show_group_details <- FALSE\n  .             bullets <- c(x = glue(\"Input `{error_name}` must return compatible vectors across groups\"), \n  .                 i = cnd_bullet_input_info(), i = cnd_bullet_combine_details(e$parent$x, \n  .                   e$parent$x_arg), i = cnd_bullet_combine_details(e$parent$y, \n  .                   e$parent$y_arg))\n  .         }\n  .         else {\n  .             bullets <- c(x = conditionMessage(e), i = cnd_bullet_input_info())\n  .         }\n  .         bullets <- c(cnd_bullet_header(), bullets, i = if (show_group_details) cnd_bullet_cur_group_label())\n  .         abort(bullets, class = c(\"dplyr:::mutate_error\", \"dplyr_error\"), \n  .             error_name = error_name, error_expression = error_expression, \n  .             parent = e, bullets = bullets)\n  .     }, warning = function(w) {\n  .         if (check_muffled_warning(w)) {\n  .             maybe_restart(\"muffleWarning\")\n  .         }\n  .         local_call_step(dots = dots, .index = i, .fn = \"mutate\")\n  .         warn(c(cnd_bullet_header(), i = conditionMessage(w), \n  .             i = cnd_bullet_input_info(), i = cnd_bullet_cur_group_label(what = \"warning\")))\n  .         maybe_restart(\"muffleWarning\")\n  .     }), mask$eval_all_mutate(quo), dplyr:::abort_glue(character(0), \n  .         list(x_size = 0L), \"dplyr:::mutate_incompatible_size\"), \n  .     rlang::exec(abort, class = class, !!!data)), parents = c(0L, \n  . 1L, 2L, 3L, 4L, 5L, 6L, 7L, 6L, 9L, 10L, 4L, 12L, 13L, 13L, 15L, \n  . 16L, 17L, 18L, 19L, 13L, 13L, 13L, 23L, 0L, 0L, 26L, 27L, 27L, \n  . 0L, 30L), indices = 1:31), class = \"rlang_trace\", version = 1L), \n  .     parent = NULL, x_size = 0L), class = c(\"dplyr:::mutate_incompatible_size\", \n  . \"rlang_error\", \"error\", \"condition\")))",
      "12. abort(bullets, class = c(\"dplyr:::mutate_error\", \"dplyr_error\"), \n  .     error_name = error_name, error_expression = error_expression, \n  .     parent = e, bullets = bullets)",
      "13. signal_abort(cnd)"
     ]
    }
   ],
   "source": [
    "# function to categorise\n",
    "getPerformance <- function(g1, g2, g3)\n",
    "{\n",
    "  average <- (g1 + g2 + g3)/3  \n",
    " \n",
    "  perf <- sapply(average, function(x)\n",
    "  {\n",
    "    if (x < 3)\n",
    "    {\n",
    "      \"Poor\";\n",
    "    }\n",
    "    else if(x >= 3 & x < 4)\n",
    "    {\n",
    "      \"Good\";\n",
    "    }\n",
    "    else\n",
    "    {\n",
    "      \"Excellent\";\n",
    "    }\n",
    "    \n",
    "  })\n",
    " \n",
    "  return (perf)\n",
    "}\n",
    "\n",
    "chocodata <- mutate(chocodata, performance = getPerformance(chocodata$G1, chocodata$G2, chocodata$G3))\n",
    "chocodata <- select(chocodata, 'rating', 'cocoa.percent', 'broad.bean.origin', 'performance')\n",
    "chocodata$performance <- as.factor(chocodata$performance)\n",
    "chocodata$rating <- as.factor(chocodata$rating)\n",
    "chocodata$cocoa.percent <- as.factor(chocodata$cocoa.percent)\n",
    "chocodata$broad.bean.origin <- as.factor(chocodata$broad.bean.origin)"
   ]
  },
  {
   "cell_type": "code",
   "execution_count": 21,
   "id": "generic-health",
   "metadata": {
    "execution": {
     "iopub.execute_input": "2021-04-28T12:58:39.473813Z",
     "iopub.status.busy": "2021-04-28T12:58:39.472327Z",
     "iopub.status.idle": "2021-04-28T12:58:39.579179Z",
     "shell.execute_reply": "2021-04-28T12:58:39.577440Z"
    },
    "papermill": {
     "duration": 0.135813,
     "end_time": "2021-04-28T12:58:39.579333",
     "exception": false,
     "start_time": "2021-04-28T12:58:39.443520",
     "status": "completed"
    },
    "tags": []
   },
   "outputs": [
    {
     "name": "stderr",
     "output_type": "stream",
     "text": [
      "ERROR while rich displaying an object: Error in FUN(X[[i]], ...): object 'performance' not found\n",
      "\n",
      "Traceback:\n",
      "1. FUN(X[[i]], ...)\n",
      "2. tryCatch(withCallingHandlers({\n",
      " .     if (!mime %in% names(repr::mime2repr)) \n",
      " .         stop(\"No repr_* for mimetype \", mime, \" in repr::mime2repr\")\n",
      " .     rpr <- repr::mime2repr[[mime]](obj)\n",
      " .     if (is.null(rpr)) \n",
      " .         return(NULL)\n",
      " .     prepare_content(is.raw(rpr), rpr)\n",
      " . }, error = error_handler), error = outer_handler)\n",
      "3. tryCatchList(expr, classes, parentenv, handlers)\n",
      "4. tryCatchOne(expr, names, parentenv, handlers[[1L]])\n",
      "5. doTryCatch(return(expr), name, parentenv, handler)\n",
      "6. withCallingHandlers({\n",
      " .     if (!mime %in% names(repr::mime2repr)) \n",
      " .         stop(\"No repr_* for mimetype \", mime, \" in repr::mime2repr\")\n",
      " .     rpr <- repr::mime2repr[[mime]](obj)\n",
      " .     if (is.null(rpr)) \n",
      " .         return(NULL)\n",
      " .     prepare_content(is.raw(rpr), rpr)\n",
      " . }, error = error_handler)\n",
      "7. repr::mime2repr[[mime]](obj)\n",
      "8. repr_text.default(obj)\n",
      "9. paste(capture.output(print(obj)), collapse = \"\\n\")\n",
      "10. capture.output(print(obj))\n",
      "11. evalVis(expr)\n",
      "12. withVisible(eval(expr, pf))\n",
      "13. eval(expr, pf)\n",
      "14. eval(expr, pf)\n",
      "15. print(obj)\n",
      "16. print.ggplot(obj)\n",
      "17. ggplot_build(x)\n",
      "18. ggplot_build.ggplot(x)\n",
      "19. by_layer(function(l, d) l$compute_aesthetics(d, plot))\n",
      "20. f(l = layers[[i]], d = data[[i]])\n",
      "21. l$compute_aesthetics(d, plot)\n",
      "22. f(..., self = self)\n",
      "23. scales_add_defaults(plot$scales, data, aesthetics, plot$plot_env)\n",
      "24. lapply(aesthetics[new_aesthetics], eval_tidy, data = data)\n",
      "25. FUN(X[[i]], ...)\n",
      "ERROR while rich displaying an object: Error in FUN(X[[i]], ...): object 'performance' not found\n",
      "\n",
      "Traceback:\n",
      "1. FUN(X[[i]], ...)\n",
      "2. tryCatch(withCallingHandlers({\n",
      " .     if (!mime %in% names(repr::mime2repr)) \n",
      " .         stop(\"No repr_* for mimetype \", mime, \" in repr::mime2repr\")\n",
      " .     rpr <- repr::mime2repr[[mime]](obj)\n",
      " .     if (is.null(rpr)) \n",
      " .         return(NULL)\n",
      " .     prepare_content(is.raw(rpr), rpr)\n",
      " . }, error = error_handler), error = outer_handler)\n",
      "3. tryCatchList(expr, classes, parentenv, handlers)\n",
      "4. tryCatchOne(expr, names, parentenv, handlers[[1L]])\n",
      "5. doTryCatch(return(expr), name, parentenv, handler)\n",
      "6. withCallingHandlers({\n",
      " .     if (!mime %in% names(repr::mime2repr)) \n",
      " .         stop(\"No repr_* for mimetype \", mime, \" in repr::mime2repr\")\n",
      " .     rpr <- repr::mime2repr[[mime]](obj)\n",
      " .     if (is.null(rpr)) \n",
      " .         return(NULL)\n",
      " .     prepare_content(is.raw(rpr), rpr)\n",
      " . }, error = error_handler)\n",
      "7. repr::mime2repr[[mime]](obj)\n",
      "8. repr_text.default(obj)\n",
      "9. paste(capture.output(print(obj)), collapse = \"\\n\")\n",
      "10. capture.output(print(obj))\n",
      "11. evalVis(expr)\n",
      "12. withVisible(eval(expr, pf))\n",
      "13. eval(expr, pf)\n",
      "14. eval(expr, pf)\n",
      "15. print(obj)\n",
      "16. print.ggplot(obj)\n",
      "17. ggplot_build(x)\n",
      "18. ggplot_build.ggplot(x)\n",
      "19. by_layer(function(l, d) l$compute_aesthetics(d, plot))\n",
      "20. f(l = layers[[i]], d = data[[i]])\n",
      "21. l$compute_aesthetics(d, plot)\n",
      "22. f(..., self = self)\n",
      "23. scales_add_defaults(plot$scales, data, aesthetics, plot$plot_env)\n",
      "24. lapply(aesthetics[new_aesthetics], eval_tidy, data = data)\n",
      "25. FUN(X[[i]], ...)\n"
     ]
    },
    {
     "data": {
      "image/png": "[encoded data removed]"
     },
     "metadata": {
      "image/png": {
       "height": 420,
       "width": 420
      }
     },
     "output_type": "display_data"
    }
   ],
   "source": [
    "ggplot(data = chocodata, mapping = aes(x = performance, y = cocoa.percent)) + geom_boxplot()\n",
    "ggplot(data = chocodata, mapping = aes(x = performance, y = broad.bean.origin)) + geom_jitter(aes(colour = performance))"
   ]
  }
 ],
 "metadata": {
  "kernelspec": {
   "display_name": "R",
   "language": "R",
   "name": "ir"
  },
  "language_info": {
   "codemirror_mode": "r",
   "file_extension": ".r",
   "mimetype": "text/x-r-source",
   "name": "R",
   "pygments_lexer": "r",
   "version": "3.6.3"
  },
  "papermill": {
   "default_parameters": {},
   "duration": 20.514652,
   "end_time": "2021-04-28T12:58:39.815413",
   "environment_variables": {},
   "exception": null,
   "input_path": "__notebook__.ipynb",
   "output_path": "__notebook__.ipynb",
   "parameters": {},
   "start_time": "2021-04-28T12:58:19.300761",
   "version": "2.3.3"
  }
 },
 "nbformat": 4,
 "nbformat_minor": 5
}
